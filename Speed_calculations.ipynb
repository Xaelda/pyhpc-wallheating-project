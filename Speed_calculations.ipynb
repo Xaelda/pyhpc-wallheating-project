{
 "cells": [
  {
   "cell_type": "markdown",
   "id": "727dc290",
   "metadata": {},
   "source": [
    "# Runtime calculations"
   ]
  },
  {
   "cell_type": "markdown",
   "id": "f8d3d672",
   "metadata": {},
   "source": [
    "---\n"
   ]
  },
  {
   "cell_type": "code",
   "execution_count": 32,
   "id": "44dcca25",
   "metadata": {},
   "outputs": [
    {
     "name": "stdout",
     "output_type": "stream",
     "text": [
      "P*(S - 1)/(S*(P - 1))\n"
     ]
    }
   ],
   "source": [
    "import sympy as sp\n",
    "\n",
    "S = sp.symbols('S')\n",
    "P = sp.symbols('P')\n",
    "F = sp.symbols('F') \n",
    "\n",
    "# solve for f in S = 1/((1-F)+F/P) using sympy\n",
    "F = sp.solve(S - 1/((1-F)+F/P), F)[0]\n",
    "print(F)"
   ]
  },
  {
   "cell_type": "markdown",
   "id": "ab78fda1",
   "metadata": {},
   "source": [
    "## Task 1-3"
   ]
  },
  {
   "cell_type": "code",
<<<<<<< HEAD
   "execution_count": 24,
=======
   "execution_count": 3,
>>>>>>> f5c5be7a9581fb616786aeeaabd02223a4f33f80
   "id": "24fa2e06",
   "metadata": {},
   "outputs": [
    {
     "name": "stdout",
     "output_type": "stream",
     "text": [
      "Time per floor plan: 10.30 seconds\n",
      "Total time for all 4571 floor plans: 47081.30 seconds\n",
      "Total time for all 4571 floor plans: 13.08 hours\n"
     ]
    }
   ],
   "source": [
    "\n",
    "import numpy as np \n",
    "T_ref = np.array([49, 1*60+19, 2*60+27, 3*60+26]) # run times in seconds\n",
    "\n",
    "floor_plans = np.array([5,10,15,20])  # Number of floor plans processed\n",
    "\n",
    "N_floor_plans = 4571  # Total number of floor plans\n",
    "time_per_floor_plan = T_ref[-1] / floor_plans[-1]  # Time per floor plan\n",
    "print(f\"Time per floor plan: {time_per_floor_plan:.2f} seconds\")\n",
    "\n",
    "print(f\"Total time for all {N_floor_plans} floor plans: {time_per_floor_plan * N_floor_plans:.2f} seconds\")\n",
    "# in hours\n",
    "print(f\"Total time for all {N_floor_plans} floor plans: {time_per_floor_plan * N_floor_plans / 3600:.2f} hours\")"
   ]
  },
  {
   "cell_type": "markdown",
   "id": "91e2add7",
   "metadata": {},
   "source": [
    "---"
   ]
  },
  {
   "cell_type": "markdown",
   "id": "082e4e09",
   "metadata": {},
   "source": [
    "### Speed up calculations"
   ]
  },
  {
   "cell_type": "code",
<<<<<<< HEAD
   "execution_count": 25,
=======
   "execution_count": 8,
>>>>>>> f5c5be7a9581fb616786aeeaabd02223a4f33f80
   "id": "7ad74c2a",
   "metadata": {},
   "outputs": [
    {
     "name": "stdout",
     "output_type": "stream",
     "text": [
      "F values: [0.828 0.854 0.822 0.82 ]\n",
      "Mean parallel fraction: 0.831\n",
      "Serial fraction (B): 0.16900000000000004\n",
      "Theoretical maximum speedup: 5.917159763313608\n",
      "Achieved speedup with 16 cores: 4.328185328185328\n",
      "Percentage of theoretical maximum: 73.14633204633206%\n",
      "time per floor plan: 2.59s\n",
      "total time for all 4571 floor plans: 11838.89s\n",
      "total time for all 4571 floor plans: 3.289h\n"
     ]
    },
    {
     "data": {
      "text/plain": [
       "np.float64(4.328185328185328)"
      ]
     },
     "execution_count": 8,
     "metadata": {},
     "output_type": "execute_result"
    }
   ],
   "source": [
    "# setr numpy print options\n",
    "np.set_printoptions(suppress=True, precision=3)\n",
    "\n",
    "P = np.array([1+0.000001,2, 4, 8, 16])\n",
    "T = np.array([18*60+41, 10*60+57, 6*60+43, 5*60+15, 4*60+19])  # Execution times in seconds\n",
    "\n",
    "S = T[0] / T  # Speedup\n",
    "\n",
    "# Calculate F\n",
    "S1 = S[1:]\n",
    "P1 = P[1:]\n",
    "F = (S1 - 1) * P1 / (S1 * (P1 - 1))\n",
    "\n",
    "# Clamp F.mean() to avoid exceeding 1\n",
    "F_mean = min(np.round(np.mean(F),3), 1.0)\n",
    "B = 1 - F_mean\n",
    "max_speedup = 1 / B\n",
    "\n",
    "achieved_speedup = S[-1]\n",
    "percentage_of_max = (achieved_speedup / max_speedup) * 100\n",
    "\n",
    "# Debugging prints\n",
    "print(f\"F values: {F}\")\n",
    "print(f\"Mean parallel fraction: {F_mean}\")\n",
    "print(f\"Serial fraction (B): {B}\")\n",
    "print(f\"Theoretical maximum speedup: {max_speedup}\")\n",
    "print(f\"Achieved speedup with 16 cores: {achieved_speedup}\")\n",
    "print(f\"Percentage of theoretical maximum: {percentage_of_max}%\")\n",
    "\n",
    "# time per floor plan\n",
    "time_per_floor_plan = T[-1]/100\n",
    "print(f\"time per floor plan: {time_per_floor_plan}s\")\n",
    "print(f\"total time for all 4571 floor plans: {time_per_floor_plan*4571}s\")\n",
    "# in hours \n",
    "print(f\"total time for all 4571 floor plans: {np.round(time_per_floor_plan*4571/3600,3)}h\")\n",
    "\n",
    "S1[-1]"
   ]
  },
  {
   "cell_type": "code",
   "execution_count": 26,
   "id": "a7aed46d",
   "metadata": {},
   "outputs": [
    {
     "name": "stdout",
     "output_type": "stream",
     "text": [
      "[1.706 2.782 3.559 4.328]\n"
     ]
    }
   ],
   "source": [
    "print(S1)"
   ]
  },
  {
   "cell_type": "code",
   "execution_count": 37,
   "id": "2a478719",
   "metadata": {},
   "outputs": [
    {
     "name": "stdout",
     "output_type": "stream",
     "text": [
      "Time: 0 hours and 39 minutes\n"
     ]
    }
   ],
   "source": [
    "time = 0.65 # hours\n",
    "# convert to h and minutes\n",
    "time_h = int(time)\n",
    "time_m = int((time - time_h) * 60)\n",
    "print(f\"Time: {time_h} hours and {time_m} minutes\")"
   ]
  },
  {
   "cell_type": "markdown",
   "id": "5e81c31e",
   "metadata": {},
   "source": [
    "---\n"
   ]
  },
  {
   "cell_type": "markdown",
   "id": "10c964ea",
   "metadata": {},
   "source": [
    "### Plots"
   ]
  },
  {
   "cell_type": "code",
   "execution_count": 27,
   "id": "51e1b60b",
   "metadata": {},
   "outputs": [
    {
     "data": {
      "image/png": "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",
      "text/plain": [
       "<Figure size 1000x600 with 1 Axes>"
      ]
     },
     "metadata": {},
     "output_type": "display_data"
    }
   ],
   "source": [
    "import numpy as np\n",
    "import matplotlib.pyplot as plt\n",
    "\n",
    "# Your existing data\n",
    "P_actual = P\n",
    "S_actual = T[0]/T\n",
    "\n",
    "# Theoretical curve according to Amdahl's law\n",
    "P_theory = np.linspace(1, 100, 100)\n",
    "S_theory = 1 / (B + (1-B)/P_theory)\n",
    "\n",
    "plt.figure(figsize=(10, 6))\n",
    "plt.plot(P_theory, S_theory, 'b-', label=\"Theoretical (Amdahl's Law)\")\n",
    "plt.plot(P_actual, S_actual, 'ro-', label=\"Measured\")\n",
    "plt.axhline(y=1/B, color='g', linestyle='--', label=f\"Maximum speedup ({np.round(1/B, 1)}x)\")\n",
    "\n",
    "plt.xlabel('Number of Processors (P)')\n",
    "plt.ylabel('Speedup (S)')\n",
    "plt.title('Speedup vs. Number of Processors')\n",
    "plt.legend()\n",
    "plt.grid(True)\n",
    "plt.ylim(0, 8)\n",
    "plt.xlim(0, 50)\n",
    "plt.show()"
   ]
  },
  {
   "cell_type": "markdown",
   "id": "62ec52c4",
   "metadata": {},
   "source": [
    "## task 8"
   ]
  },
  {
   "cell_type": "code",
   "execution_count": 39,
   "id": "8a2c455d",
   "metadata": {},
   "outputs": [
    {
     "name": "stdout",
     "output_type": "stream",
     "text": [
      "Time per floor plan: 0.51 seconds\n",
      "Total time for all 4571 floor plans: 2331.21 seconds\n",
      "Total time for all 4571 floor plans: 0.65 hours\n",
      "Speed up compared to reference time 6.06x\n"
     ]
    }
   ],
   "source": [
    "\n",
    "import numpy as np \n",
    "Times = np.array([9, 15 ,22, 30])  # Execution times in seconds\n",
    "floor_plans = np.array([5,10,15,20])  # Number of floor plans processed\n",
    "\n",
    "N_floor_plans = 4571  # Total number of floor plans\n",
    "time_per_floor_plan = Times[-1] / floor_plans[-1]  # Time per floor plan\n",
    "time_per_floor_plan = 51/100\n",
    "print(f\"Time per floor plan: {time_per_floor_plan:.2f} seconds\")\n",
    "\n",
    "print(f\"Total time for all {N_floor_plans} floor plans: {time_per_floor_plan * N_floor_plans:.2f} seconds\")\n",
    "# in hours\n",
    "print(f\"Total time for all {N_floor_plans} floor plans: {time_per_floor_plan * N_floor_plans / 3600:.2f} hours\")\n",
    "\n",
    "print(f\"Speed up compared to reference time {np.mean(T_ref/Times):.2f}x\")"
   ]
  },
  {
   "cell_type": "markdown",
   "id": "77dce126",
   "metadata": {},
   "source": [
    "## Task 9"
   ]
  },
  {
   "cell_type": "code",
<<<<<<< HEAD
   "execution_count": 29,
=======
   "execution_count": null,
>>>>>>> f5c5be7a9581fb616786aeeaabd02223a4f33f80
   "id": "1c13f169",
   "metadata": {},
   "outputs": [
    {
     "name": "stdout",
     "output_type": "stream",
     "text": [
      "Time per floor plan: 2.95 seconds\n",
      "Total time for all 4571 floor plans: 13484.45 seconds\n",
      "Total time for all 4571 floor plans: 3.75 hours\n",
      "Speed up compared to reference time 3.33x\n"
<<<<<<< HEAD
=======
     ]
    },
    {
     "ename": "NameError",
     "evalue": "name 'S1' is not defined",
     "output_type": "error",
     "traceback": [
      "\u001b[31m---------------------------------------------------------------------------\u001b[39m",
      "\u001b[31mNameError\u001b[39m                                 Traceback (most recent call last)",
      "\u001b[36mCell\u001b[39m\u001b[36m \u001b[39m\u001b[32mIn[7]\u001b[39m\u001b[32m, line 15\u001b[39m\n\u001b[32m     11\u001b[39m \u001b[38;5;28mprint\u001b[39m(\u001b[33mf\u001b[39m\u001b[33m\"\u001b[39m\u001b[33mTotal time for all \u001b[39m\u001b[38;5;132;01m{\u001b[39;00mN_floor_plans\u001b[38;5;132;01m}\u001b[39;00m\u001b[33m floor plans: \u001b[39m\u001b[38;5;132;01m{\u001b[39;00mtime_per_floor_plan\u001b[38;5;250m \u001b[39m*\u001b[38;5;250m \u001b[39mN_floor_plans\u001b[38;5;250m \u001b[39m/\u001b[38;5;250m \u001b[39m\u001b[32m3600\u001b[39m\u001b[38;5;132;01m:\u001b[39;00m\u001b[33m.2f\u001b[39m\u001b[38;5;132;01m}\u001b[39;00m\u001b[33m hours\u001b[39m\u001b[33m\"\u001b[39m)\n\u001b[32m     13\u001b[39m \u001b[38;5;28mprint\u001b[39m(\u001b[33mf\u001b[39m\u001b[33m\"\u001b[39m\u001b[33mSpeed up compared to reference time \u001b[39m\u001b[38;5;132;01m{\u001b[39;00mnp.mean(T_ref/Times[\u001b[32m1\u001b[39m:])\u001b[38;5;132;01m:\u001b[39;00m\u001b[33m.2f\u001b[39m\u001b[38;5;132;01m}\u001b[39;00m\u001b[33mx\u001b[39m\u001b[33m\"\u001b[39m)\n\u001b[32m---> \u001b[39m\u001b[32m15\u001b[39m \u001b[43mS1\u001b[49m[-\u001b[32m1\u001b[39m]\n",
      "\u001b[31mNameError\u001b[39m: name 'S1' is not defined"
>>>>>>> f5c5be7a9581fb616786aeeaabd02223a4f33f80
     ]
    }
   ],
   "source": [
    "\n",
    "import numpy as np \n",
    "Times = np.array([3, 15, 25, 43, 59])  # Execution times in seconds\n",
    "floor_plans = np.array([1,5,10,15,20])  # Number of floor plans processed\n",
    "\n",
    "N_floor_plans = 4571  # Total number of floor plans\n",
    "time_per_floor_plan = Times[-1] / floor_plans[-1]  # Time per floor plan\n",
    "print(f\"Time per floor plan: {time_per_floor_plan:.2f} seconds\")\n",
    "\n",
    "print(f\"Total time for all {N_floor_plans} floor plans: {time_per_floor_plan * N_floor_plans:.2f} seconds\")\n",
    "# in hours\n",
    "print(f\"Total time for all {N_floor_plans} floor plans: {time_per_floor_plan * N_floor_plans / 3600:.2f} hours\")\n",
    "\n",
    "print(f\"Speed up compared to reference time {np.mean(T_ref/Times[1:]):.2f}x\")"
   ]
  },
  {
   "cell_type": "markdown",
   "id": "8f153810",
   "metadata": {},
   "source": [
    "---"
   ]
  },
  {
   "cell_type": "markdown",
   "id": "e2475407",
   "metadata": {},
   "source": [
    "## Task 12 "
   ]
  },
  {
   "cell_type": "code",
   "execution_count": 35,
   "id": "88f3ff77",
   "metadata": {},
   "outputs": [
    {
     "name": "stdout",
     "output_type": "stream",
     "text": [
      "\n",
      "Results of temperature analysis:\n",
      "--------------------------------\n",
      "b) Average mean temperature of all buildings: 14.69°C\n",
      "c) Average temperature standard deviation: 6.80°C\n",
      "d) Number of buildings with at least 50% of area above 18°C: 804\n",
      "e) Number of buildings with at least 50% of area below 15°C: 2471\n",
      "\n",
      "Histogram saved as 'mean_temp_histogram.png'\n"
     ]
    }
   ],
   "source": [
    "\n",
    "import numpy as np\n",
    "import matplotlib.pyplot as plt\n",
    "import pandas as pd\n",
    "import sys\n",
    "import os\n",
    "\n",
    "def analyze_results(path):\n",
    "    # Check if results file exists, create if not\n",
    "    results_file = path\n",
    "\n",
    "    \n",
    "    # Load results data\n",
    "    df = pd.read_csv(results_file)\n",
    "    \n",
    "    # a) Distribution of mean temperatures (histogram)\n",
    "    plt.figure(figsize=(10, 6))\n",
    "    plt.hist(df['mean_temp'], bins=20, edgecolor='black', alpha=0.7)\n",
    "    plt.title('Distribution of Mean Temperatures')\n",
    "    plt.xlabel('Mean Temperature (°C)')\n",
    "    plt.ylabel('Number of Buildings')\n",
    "    plt.grid(alpha=0.3)\n",
    "    plt.savefig('mean_temp_histogram.png')\n",
    "    plt.close()\n",
    "    \n",
    "    # b) Average mean temperature\n",
    "    avg_mean_temp = df['mean_temp'].mean()\n",
    "    \n",
    "    # c) Average temperature standard deviation\n",
    "    avg_std_temp = df['std_temp'].mean()\n",
    "    \n",
    "    # d) Buildings with at least 50% of area above 18°C\n",
    "    buildings_above_18 = (df['pct_above_18'] >= 50).sum()\n",
    "    \n",
    "    # e) Buildings with at least 50% of area below 15°C\n",
    "    buildings_below_15 = (df['pct_below_15'] >= 50).sum()\n",
    "    \n",
    "    # Print results to answer the questions\n",
    "    print(\"\\nResults of temperature analysis:\")\n",
    "    print(\"--------------------------------\")\n",
    "    print(f\"b) Average mean temperature of all buildings: {avg_mean_temp:.2f}°C\")\n",
    "    print(f\"c) Average temperature standard deviation: {avg_std_temp:.2f}°C\")\n",
    "    print(f\"d) Number of buildings with at least 50% of area above 18°C: {buildings_above_18}\")\n",
    "    print(f\"e) Number of buildings with at least 50% of area below 15°C: {buildings_below_15}\")\n",
    "    print(\"\\nHistogram saved as 'mean_temp_histogram.png'\")\n",
    "\n",
    "path_csv = r\"C:\\Users\\Madsl\\Downloads\\temperature_stats.csv\"\n",
    "\n",
    "analyze_results(path_csv)"
   ]
  }
 ],
 "metadata": {
  "kernelspec": {
   "display_name": "Python 3",
   "language": "python",
   "name": "python3"
  },
  "language_info": {
   "codemirror_mode": {
    "name": "ipython",
    "version": 3
   },
   "file_extension": ".py",
   "mimetype": "text/x-python",
   "name": "python",
   "nbconvert_exporter": "python",
   "pygments_lexer": "ipython3",
   "version": "3.13.2"
  }
 },
 "nbformat": 4,
 "nbformat_minor": 5
}
